{
 "cells": [
  {
   "cell_type": "code",
   "execution_count": 1,
   "metadata": {},
   "outputs": [],
   "source": [
    "import numpy as np\n",
    "from bert_serving.client import BertClient\n",
    "from termcolor import colored"
   ]
  },
  {
   "cell_type": "code",
   "execution_count": 2,
   "metadata": {},
   "outputs": [],
   "source": [
    "#with BertClient(port=4000, port_out=4001) as bc:\n",
    "bc = BertClient()"
   ]
  },
  {
   "cell_type": "code",
   "execution_count": 3,
   "metadata": {},
   "outputs": [
    {
     "name": "stdout",
     "output_type": "stream",
     "text": [
      "(1, 768)\n",
      "[ 0.1907305  -0.5088739   1.3076179   0.3371995  -0.48411322]\n"
     ]
    }
   ],
   "source": [
    "query_vec = bc.encode([\"Hello world\"])\n",
    "print(query_vec.shape)\n",
    "print(query_vec[0][0:5])"
   ]
  },
  {
   "cell_type": "code",
   "execution_count": 4,
   "metadata": {},
   "outputs": [
    {
     "name": "stdout",
     "output_type": "stream",
     "text": [
      "(1, 768)\n",
      "[ 0.04391535 -0.20063262  1.2719628  -0.19756414 -0.2618203 ]\n"
     ]
    }
   ],
   "source": [
    "query_vec = bc.encode([\"Hello korea\"])\n",
    "print(query_vec.shape)\n",
    "print(query_vec[0][0:5])"
   ]
  },
  {
   "cell_type": "code",
   "execution_count": 5,
   "metadata": {},
   "outputs": [
    {
     "name": "stdout",
     "output_type": "stream",
     "text": [
      "(1, 768)\n",
      "[ 0.27387032 -0.58729535  0.06643905  0.3565817  -0.40055966]\n"
     ]
    }
   ],
   "source": [
    "query_vec = bc.encode([\"하이 안녕\"])\n",
    "print(query_vec.shape)\n",
    "print(query_vec[0][:5])"
   ]
  },
  {
   "cell_type": "code",
   "execution_count": 6,
   "metadata": {},
   "outputs": [
    {
     "name": "stdout",
     "output_type": "stream",
     "text": [
      "(1, 768)\n",
      "[ 0.12494116  0.01266804  0.29794228  0.6175006  -0.535344  ]\n"
     ]
    }
   ],
   "source": [
    "query_vec = bc.encode([\"그래 그렇게\"])\n",
    "print(query_vec.shape)\n",
    "print(query_vec[0][:5])"
   ]
  },
  {
   "cell_type": "code",
   "execution_count": null,
   "metadata": {},
   "outputs": [],
   "source": []
  }
 ],
 "metadata": {
  "kernelspec": {
   "display_name": "Python 3",
   "language": "python",
   "name": "python3"
  },
  "language_info": {
   "codemirror_mode": {
    "name": "ipython",
    "version": 3
   },
   "file_extension": ".py",
   "mimetype": "text/x-python",
   "name": "python",
   "nbconvert_exporter": "python",
   "pygments_lexer": "ipython3",
   "version": "3.5.2"
  }
 },
 "nbformat": 4,
 "nbformat_minor": 2
}
