{
 "cells": [
  {
   "cell_type": "code",
   "execution_count": 1,
   "metadata": {},
   "outputs": [],
   "source": [
    "#!/usr/bin/env python\n",
    "# -*- coding: utf-8 -*-\n",
    "# Han Xiao <artex.xh@gmail.com> <https://hanxiao.github.io>\n",
    "# https://github.com/hanxiao/bert-as-service\n",
    "# NOTE: First install bert-as-service via\n",
    "# $\n",
    "# $ pip install bert-serving-server\n",
    "# $ pip install bert-serving-client\n",
    "# $\n",
    "\n",
    "# simple similarity search on FAQ"
   ]
  },
  {
   "cell_type": "code",
   "execution_count": 2,
   "metadata": {},
   "outputs": [],
   "source": [
    "import numpy as np\n",
    "from bert_serving.client import BertClient\n",
    "from termcolor import colored"
   ]
  },
  {
   "cell_type": "code",
   "execution_count": 3,
   "metadata": {},
   "outputs": [],
   "source": [
    "#with BertClient(port=4000, port_out=4001) as bc:\n",
    "bc = BertClient()"
   ]
  },
  {
   "cell_type": "code",
   "execution_count": 4,
   "metadata": {},
   "outputs": [],
   "source": [
    "prefix_q = '##### **Q:** '\n",
    "topk = 5"
   ]
  },
  {
   "cell_type": "code",
   "execution_count": null,
   "metadata": {},
   "outputs": [
    {
     "name": "stdout",
     "output_type": "stream",
     "text": [
      "4 questions loaded, avg. len of 1\n"
     ]
    }
   ],
   "source": [
    "with open('kor_test.txt') as fp:\n",
    "\tquestions = [v.replace(prefix_q, '').strip() for v in fp if v.strip() and v.startswith(prefix_q)]\n",
    "\tprint('%d questions loaded, avg. len of %d' % (len(questions), np.mean([len(d.split()) for d in questions])))"
   ]
  },
  {
   "cell_type": "code",
   "execution_count": null,
   "metadata": {},
   "outputs": [
    {
     "name": "stdout",
     "output_type": "stream",
     "text": [
      "your question: asdf\n",
      "(1, 768)\n",
      "[-0.7654451  -1.3474596   2.0928333   0.27605778  0.09556187]\n",
      "top 5 questions similar to \"\u001b[32masdf\u001b[0m\"\n",
      "> \u001b[36m29.0\u001b[0m\t\u001b[33m대학교 가까이\u001b[0m\n",
      "> \u001b[36m28.0\u001b[0m\t\u001b[33m학교입니까\u001b[0m\n",
      "> \u001b[36m27.4\u001b[0m\t\u001b[33m열마나 힘들까?\u001b[0m\n",
      "> \u001b[36m27.2\u001b[0m\t\u001b[33m이거 얼마입니까?\u001b[0m\n",
      "your question: ㅁㄴㅇㄹ\n",
      "(1, 768)\n",
      "[-0.36139655 -0.12814492 -0.01868746  0.20281714 -0.02859865]\n",
      "top 5 questions similar to \"\u001b[32mㅁㄴㅇㄹ\u001b[0m\"\n",
      "> \u001b[36m29.9\u001b[0m\t\u001b[33m대학교 가까이\u001b[0m\n",
      "> \u001b[36m28.5\u001b[0m\t\u001b[33m학교입니까\u001b[0m\n",
      "> \u001b[36m28.3\u001b[0m\t\u001b[33m열마나 힘들까?\u001b[0m\n",
      "> \u001b[36m27.7\u001b[0m\t\u001b[33m이거 얼마입니까?\u001b[0m\n",
      "your question: 가자\n",
      "(1, 768)\n",
      "[ 0.41116357 -0.6338894   0.86293685  0.92936254  0.04906339]\n",
      "top 5 questions similar to \"\u001b[32m가자\u001b[0m\"\n",
      "> \u001b[36m33.0\u001b[0m\t\u001b[33m대학교 가까이\u001b[0m\n",
      "> \u001b[36m31.9\u001b[0m\t\u001b[33m학교입니까\u001b[0m\n",
      "> \u001b[36m30.9\u001b[0m\t\u001b[33m열마나 힘들까?\u001b[0m\n",
      "> \u001b[36m30.6\u001b[0m\t\u001b[33m이거 얼마입니까?\u001b[0m\n",
      "your question: 우리\n",
      "(1, 768)\n",
      "[ 0.19881919 -0.6241618   0.89921445  0.06072361 -0.05975375]\n",
      "top 5 questions similar to \"\u001b[32m우리\u001b[0m\"\n",
      "> \u001b[36m32.6\u001b[0m\t\u001b[33m대학교 가까이\u001b[0m\n",
      "> \u001b[36m32.3\u001b[0m\t\u001b[33m학교입니까\u001b[0m\n",
      "> \u001b[36m31.7\u001b[0m\t\u001b[33m열마나 힘들까?\u001b[0m\n",
      "> \u001b[36m30.8\u001b[0m\t\u001b[33m이거 얼마입니까?\u001b[0m\n",
      "your question: 대학교\n",
      "(1, 768)\n",
      "[-0.04995814 -0.8282616   1.5657754   0.01366904 -0.33730385]\n",
      "top 5 questions similar to \"\u001b[32m대학교\u001b[0m\"\n",
      "> \u001b[36m32.3\u001b[0m\t\u001b[33m대학교 가까이\u001b[0m\n",
      "> \u001b[36m29.8\u001b[0m\t\u001b[33m학교입니까\u001b[0m\n",
      "> \u001b[36m28.7\u001b[0m\t\u001b[33m열마나 힘들까?\u001b[0m\n",
      "> \u001b[36m27.8\u001b[0m\t\u001b[33m이거 얼마입니까?\u001b[0m\n",
      "your question: 이거\n",
      "(1, 768)\n",
      "[ 0.43574762 -0.731406    0.4074267   0.73705906 -0.80639905]\n",
      "top 5 questions similar to \"\u001b[32m이거\u001b[0m\"\n",
      "> \u001b[36m33.9\u001b[0m\t\u001b[33m대학교 가까이\u001b[0m\n",
      "> \u001b[36m33.0\u001b[0m\t\u001b[33m학교입니까\u001b[0m\n",
      "> \u001b[36m32.3\u001b[0m\t\u001b[33m이거 얼마입니까?\u001b[0m\n",
      "> \u001b[36m32.2\u001b[0m\t\u001b[33m열마나 힘들까?\u001b[0m\n",
      "your question: 얼마\n",
      "(1, 768)\n",
      "[ 0.58616424  0.13561103  0.19668415  0.52740854 -0.3115229 ]\n",
      "top 5 questions similar to \"\u001b[32m얼마\u001b[0m\"\n",
      "> \u001b[36m33.3\u001b[0m\t\u001b[33m대학교 가까이\u001b[0m\n",
      "> \u001b[36m32.9\u001b[0m\t\u001b[33m학교입니까\u001b[0m\n",
      "> \u001b[36m32.8\u001b[0m\t\u001b[33m열마나 힘들까?\u001b[0m\n",
      "> \u001b[36m32.2\u001b[0m\t\u001b[33m이거 얼마입니까?\u001b[0m\n",
      "your question: 학교입니까\n",
      "(1, 768)\n",
      "[-0.05833593  0.14723387  0.16810213  0.29753453 -0.1464704 ]\n",
      "top 5 questions similar to \"\u001b[32m학교입니까\u001b[0m\"\n",
      "> \u001b[36m33.5\u001b[0m\t\u001b[33m학교입니까\u001b[0m\n",
      "> \u001b[36m31.0\u001b[0m\t\u001b[33m대학교 가까이\u001b[0m\n",
      "> \u001b[36m30.8\u001b[0m\t\u001b[33m이거 얼마입니까?\u001b[0m\n",
      "> \u001b[36m30.7\u001b[0m\t\u001b[33m열마나 힘들까?\u001b[0m\n",
      "your question: 대학교\n",
      "(1, 768)\n",
      "[-0.04995814 -0.8282616   1.5657754   0.01366904 -0.33730385]\n",
      "top 5 questions similar to \"\u001b[32m대학교\u001b[0m\"\n",
      "> \u001b[36m32.3\u001b[0m\t\u001b[33m대학교 가까이\u001b[0m\n",
      "> \u001b[36m29.8\u001b[0m\t\u001b[33m학교입니까\u001b[0m\n",
      "> \u001b[36m28.7\u001b[0m\t\u001b[33m열마나 힘들까?\u001b[0m\n",
      "> \u001b[36m27.8\u001b[0m\t\u001b[33m이거 얼마입니까?\u001b[0m\n",
      "your question: 힘들까\n",
      "(1, 768)\n",
      "[ 0.5025505   0.00202015  0.03851418  0.53260124 -0.8344763 ]\n",
      "top 5 questions similar to \"\u001b[32m힘들까\u001b[0m\"\n",
      "> \u001b[36m29.9\u001b[0m\t\u001b[33m학교입니까\u001b[0m\n",
      "> \u001b[36m29.8\u001b[0m\t\u001b[33m열마나 힘들까?\u001b[0m\n",
      "> \u001b[36m28.4\u001b[0m\t\u001b[33m이거 얼마입니까?\u001b[0m\n",
      "> \u001b[36m28.3\u001b[0m\t\u001b[33m대학교 가까이\u001b[0m\n",
      "your question: 가까이\n",
      "(1, 768)\n",
      "[ 0.11902571 -0.554857    0.47453332  0.5883718  -0.12319963]\n",
      "top 5 questions similar to \"\u001b[32m가까이\u001b[0m\"\n",
      "> \u001b[36m33.6\u001b[0m\t\u001b[33m대학교 가까이\u001b[0m\n",
      "> \u001b[36m32.7\u001b[0m\t\u001b[33m학교입니까\u001b[0m\n",
      "> \u001b[36m31.6\u001b[0m\t\u001b[33m열마나 힘들까?\u001b[0m\n",
      "> \u001b[36m31.3\u001b[0m\t\u001b[33m이거 얼마입니까?\u001b[0m\n",
      "your question: 학교입니까\n",
      "(1, 768)\n",
      "[-0.05833593  0.14723387  0.16810213  0.29753453 -0.1464704 ]\n",
      "top 5 questions similar to \"\u001b[32m학교입니까\u001b[0m\"\n",
      "> \u001b[36m33.5\u001b[0m\t\u001b[33m학교입니까\u001b[0m\n",
      "> \u001b[36m31.0\u001b[0m\t\u001b[33m대학교 가까이\u001b[0m\n",
      "> \u001b[36m30.8\u001b[0m\t\u001b[33m이거 얼마입니까?\u001b[0m\n",
      "> \u001b[36m30.7\u001b[0m\t\u001b[33m열마나 힘들까?\u001b[0m\n",
      "your question: 입니까\n",
      "(1, 768)\n",
      "[ 0.09940853  0.47212547 -0.47650638  1.4431534  -0.5986367 ]\n",
      "top 5 questions similar to \"\u001b[32m입니까\u001b[0m\"\n",
      "> \u001b[36m34.8\u001b[0m\t\u001b[33m학교입니까\u001b[0m\n",
      "> \u001b[36m34.2\u001b[0m\t\u001b[33m열마나 힘들까?\u001b[0m\n",
      "> \u001b[36m33.9\u001b[0m\t\u001b[33m이거 얼마입니까?\u001b[0m\n",
      "> \u001b[36m33.5\u001b[0m\t\u001b[33m대학교 가까이\u001b[0m\n",
      "your question: 힘들까?\n",
      "(1, 768)\n",
      "[-0.5147454   0.06142324 -0.3416356   1.4928209  -0.9883681 ]\n",
      "top 5 questions similar to \"\u001b[32m힘들까?\u001b[0m\"\n",
      "> \u001b[36m33.1\u001b[0m\t\u001b[33m열마나 힘들까?\u001b[0m\n",
      "> \u001b[36m31.8\u001b[0m\t\u001b[33m이거 얼마입니까?\u001b[0m\n",
      "> \u001b[36m30.5\u001b[0m\t\u001b[33m학교입니까\u001b[0m\n",
      "> \u001b[36m29.6\u001b[0m\t\u001b[33m대학교 가까이\u001b[0m\n"
     ]
    }
   ],
   "source": [
    "#with BertClient(port=4000, port_out=4001) as bc:\n",
    "with BertClient() as bc:\n",
    "    doc_vecs = bc.encode(questions)\n",
    "\n",
    "    while True:\n",
    "        query = input(colored('your question: ', 'green'))\n",
    "        query_vec = bc.encode([query])\n",
    "        # compute normalized dot product as score\n",
    "        print(query_vec.shape)\n",
    "        print(query_vec[0][:5])\n",
    "        #print(query_vec[0].shape)\n",
    "        \n",
    "        #print(query_vec[0])\n",
    "        score = np.sum(query_vec * doc_vecs, axis=1) / np.linalg.norm(doc_vecs, axis=1)\n",
    "        topk_idx = np.argsort(score)[::-1][:topk]\n",
    "        print('top %d questions similar to \"%s\"' % (topk, colored(query, 'green')))\n",
    "        for idx in topk_idx:\n",
    "            print('> %s\\t%s' % (colored('%.1f' % score[idx], 'cyan'), colored(questions[idx], 'yellow')))"
   ]
  },
  {
   "cell_type": "code",
   "execution_count": null,
   "metadata": {},
   "outputs": [],
   "source": []
  }
 ],
 "metadata": {
  "kernelspec": {
   "display_name": "Python 3",
   "language": "python",
   "name": "python3"
  },
  "language_info": {
   "codemirror_mode": {
    "name": "ipython",
    "version": 3
   },
   "file_extension": ".py",
   "mimetype": "text/x-python",
   "name": "python",
   "nbconvert_exporter": "python",
   "pygments_lexer": "ipython3",
   "version": "3.5.2"
  }
 },
 "nbformat": 4,
 "nbformat_minor": 2
}
